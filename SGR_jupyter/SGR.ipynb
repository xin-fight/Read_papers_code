{
 "cells": [
  {
   "cell_type": "markdown",
   "id": "24bb6761",
   "metadata": {},
   "source": [
    "# Preprocess.py"
   ]
  },
  {
   "cell_type": "code",
   "execution_count": 23,
   "id": "d76eba25",
   "metadata": {},
   "outputs": [],
   "source": [
    "import os\n",
    "from collections import defaultdict\n",
    "import json\n",
    "import dgl\n",
    "from tqdm import tqdm\n",
    "import numpy as np\n",
    "import torch\n",
    "import networkx as nx\n",
    "from torch.utils.data import Dataset"
   ]
  },
  {
   "cell_type": "code",
   "execution_count": 5,
   "id": "ebd8c924",
   "metadata": {},
   "outputs": [],
   "source": [
    "def weighted_path_score(G, path):\n",
    "   edges = zip(path, path[1:])\n",
    "   return sum(G.edges[u, v].get('weight', 1) for u, v in edges)"
   ]
  },
  {
   "cell_type": "code",
   "execution_count": 11,
   "id": "5f526aaf",
   "metadata": {},
   "outputs": [],
   "source": [
    "data_dir = r'C:\\Users\\69014\\Desktop\\代码\\SGR\\data'\n",
    "rel2id = json.load(open(os.path.join(data_dir, 'rel2id.json'), 'r'))\n",
    "id2rel = {v: k for k, v in rel2id.items()}\n",
    "word2id = json.load(open(os.path.join(data_dir, 'word2id.json'), 'r'))\n",
    "ner2id = json.load(open(os.path.join(data_dir, 'ner2id.json'), 'r'))\n",
    "\n",
    "train_in_file = os.path.join(data_dir, 'train_annotated.json')\n",
    "dev_in_file = os.path.join(data_dir, 'dev.json')\n",
    "test_in_file = os.path.join(data_dir, 'test.json')\n",
    "train_out_file = os.path.join(data_dir, 'prepro_data', 'train.pt')\n",
    "dev_out_file = os.path.join(data_dir, 'prepro_data', 'dev.pt')\n",
    "test_out_file = os.path.join(data_dir, 'prepro_data', 'test.pt')"
   ]
  },
  {
   "cell_type": "markdown",
   "id": "8bb1f633",
   "metadata": {},
   "source": [
    "## dgl and networkx"
   ]
  },
  {
   "cell_type": "markdown",
   "id": "bf1b2478",
   "metadata": {},
   "source": [
    "to_homogeneous"
   ]
  },
  {
   "cell_type": "code",
   "execution_count": 15,
   "id": "c61104c3",
   "metadata": {},
   "outputs": [
    {
     "name": "stdout",
     "output_type": "stream",
     "text": [
      "Graph(num_nodes={'disease': 3, 'drug': 3},\n",
      "      num_edges={('drug', 'interacts', 'drug'): 2, ('drug', 'treats', 'disease'): 1},\n",
      "      metagraph=[('drug', 'drug', 'interacts'), ('drug', 'disease', 'treats')])\n",
      "Graph(num_nodes=6, num_edges=3,\n",
      "      ndata_schemes={'_ID': Scheme(shape=(), dtype=torch.int64), '_TYPE': Scheme(shape=(), dtype=torch.int64)}\n",
      "      edata_schemes={'_ID': Scheme(shape=(), dtype=torch.int64), '_TYPE': Scheme(shape=(), dtype=torch.int64)})\n",
      "{'_ID': tensor([0, 1, 2, 0, 1, 2]), '_TYPE': tensor([0, 0, 0, 1, 1, 1])}\n",
      "{'_ID': tensor([0, 1, 0]), '_TYPE': tensor([0, 0, 1])}\n"
     ]
    }
   ],
   "source": [
    "import torch as th\n",
    "\n",
    "g = dgl.heterograph({\n",
    "   ('drug', 'interacts', 'drug'): (th.tensor([0, 1]), th.tensor([1, 2])),\n",
    "   ('drug', 'treats', 'disease'): (th.tensor([1]), th.tensor([2]))})\n",
    "\n",
    "print(g)\n",
    "\n",
    "hg = dgl.to_homogeneous(g)\n",
    "print(hg)\n",
    "print(hg.ndata)  # _TYPE 表示属于那个类型的，_ID 表示在该类型下的编号\n",
    "print(hg.edata)"
   ]
  },
  {
   "cell_type": "markdown",
   "id": "49f30534",
   "metadata": {},
   "source": [
    "to_networkx"
   ]
  },
  {
   "cell_type": "code",
   "execution_count": 19,
   "id": "42636d54",
   "metadata": {},
   "outputs": [
    {
     "name": "stdout",
     "output_type": "stream",
     "text": [
      "Graph(num_nodes={'disease': 3, 'drug': 3},\n",
      "      num_edges={('drug', 'interacts', 'drug'): 2, ('drug', 'treats', 'disease'): 1},\n",
      "      metagraph=[('drug', 'drug', 'interacts'), ('drug', 'disease', 'treats')])\n",
      "Graph(num_nodes=6, num_edges=3,\n",
      "      ndata_schemes={'_ID': Scheme(shape=(), dtype=torch.int64), '_TYPE': Scheme(shape=(), dtype=torch.int64)}\n",
      "      edata_schemes={'_ID': Scheme(shape=(), dtype=torch.int64), '_TYPE': Scheme(shape=(), dtype=torch.int64)})\n",
      "[(0, {}), (1, {}), (2, {}), (3, {}), (4, {}), (5, {})]\n",
      "[(3, 4, {'id': 0}), (4, 5, {'id': 1}), (4, 2, {'id': 2})]\n"
     ]
    }
   ],
   "source": [
    "import torch as th\n",
    "\n",
    "g = dgl.heterograph({\n",
    "   ('drug', 'interacts', 'drug'): (th.tensor([0, 1]), th.tensor([1, 2])),\n",
    "   ('drug', 'treats', 'disease'): (th.tensor([1]), th.tensor([2]))})\n",
    "\n",
    "print(g)\n",
    "print(dgl.to_homogeneous(g))\n",
    "nx_graph = dgl.to_networkx(dgl.to_homogeneous(g))\n",
    "print(nx_graph.nodes(data=True))\n",
    "print(nx_graph.edges(data=True))"
   ]
  },
  {
   "cell_type": "code",
   "execution_count": 24,
   "id": "a50de6c9",
   "metadata": {},
   "outputs": [
    {
     "name": "stdout",
     "output_type": "stream",
     "text": [
      "[(0, {'h': tensor([0., 0.])}), (1, {'h': tensor([0., 0.])}), (2, {'h': tensor([0., 0.])}), (3, {'h': tensor([0., 0.])})]\n",
      "[(1, 1, {'id': 0, 'h1': tensor([1.]), 'h2': tensor([0., 0.])}), (2, 3, {'id': 1, 'h1': tensor([1.]), 'h2': tensor([0., 0.])})]\n"
     ]
    }
   ],
   "source": [
    "g = dgl.graph((torch.tensor([1, 2]), torch.tensor([1, 3])))\n",
    "g.ndata['h'] = torch.zeros(4, 2)  # 4表明有4个节点，每个节点有特征h，维度为2\n",
    "g.edata['h1'] = torch.ones(2, 1)  # 2表明有2条边，每条边有特征h1，维度为1\n",
    "g.edata['h2'] = torch.zeros(2, 2)\n",
    "nx_g = dgl.to_networkx(g, node_attrs=['h'], edge_attrs=['h1', 'h2'])\n",
    "print(nx_g.nodes(data=True))\n",
    "print(nx_g.edges(data=True))"
   ]
  },
  {
   "cell_type": "markdown",
   "id": "2e47955c",
   "metadata": {},
   "source": [
    "to_undirected() - networkx"
   ]
  },
  {
   "cell_type": "code",
   "execution_count": 39,
   "id": "3375a194",
   "metadata": {},
   "outputs": [
    {
     "name": "stdout",
     "output_type": "stream",
     "text": [
      "[(0, {}), (1, {}), (2, {}), (3, {}), (4, {}), (5, {})]\n",
      "[(3, 4, {'id': 0}), (4, 5, {'id': 1}), (4, 2, {'id': 2})]\n",
      "**********\n",
      "edge\n",
      "MultiDiGraph with 6 nodes and 3 edges\n",
      "[(2, 4, 0), (3, 4, 0), (4, 5, 0)]\n",
      "[(2, 4, {'id': 2}), (3, 4, {'id': 0}), (4, 5, {'id': 1})]\n",
      "edge\n",
      "Graph with 6 nodes and 3 edges\n",
      "[(2, 4), (3, 4), (4, 5)]\n",
      "[(2, 4, {'id': 2, 'weight': 4}), (3, 4, {'id': 0}), (4, 5, {'id': 1})]\n"
     ]
    }
   ],
   "source": [
    "import torch as th\n",
    "\n",
    "g = dgl.heterograph({\n",
    "   ('drug', 'interacts', 'drug'): (th.tensor([0, 1]), th.tensor([1, 2])),\n",
    "   ('drug', 'treats', 'disease'): (th.tensor([1]), th.tensor([2]))})\n",
    "\n",
    "nx_graph = dgl.to_networkx(dgl.to_homogeneous(g))\n",
    "print(nx_graph.nodes(data=True))\n",
    "print(nx_graph.edges(data=True))\n",
    "\n",
    "print(\"*\"*10)\n",
    "\n",
    "print(\"edge\")\n",
    "print(nx_graph)\n",
    "print(list(G2.edges))\n",
    "print(G2.edges.data())\n",
    "\n",
    "print(\"edge\")\n",
    "G2 = nx.Graph(nx_graph.to_undirected())\n",
    "G2.edges[2, 4]['weight'] = 4\n",
    "\n",
    "print(G2)\n",
    "print(list(G2.edges))\n",
    "print(G2.edges.data())"
   ]
  },
  {
   "cell_type": "code",
   "execution_count": 1,
   "id": "a3c5b135",
   "metadata": {},
   "outputs": [
    {
     "data": {
      "image/png": "[encoded data removed]",
      "text/plain": [
       "<Figure size 640x480 with 1 Axes>"
      ]
     },
     "metadata": {},
     "output_type": "display_data"
    }
   ],
   "source": [
    "import networkx as nx\n",
    "import matplotlib.pyplot as plt\n",
    "\n",
    "# 创建一个简单图\n",
    "G = nx.Graph()\n",
    "G.add_edges_from([(1, 2), (2, 3), (3, 1)])\n",
    "\n",
    "# 绘制图形\n",
    "pos = nx.spring_layout(G)  # 选择布局算法\n",
    "nx.draw(G, pos, with_labels=True, node_color='lightblue', edge_color='gray')  # 绘制图形\n",
    "plt.show()  # 显示图形"
   ]
  },
  {
   "cell_type": "code",
   "execution_count": 3,
   "id": "d2626f29",
   "metadata": {},
   "outputs": [
    {
     "name": "stdout",
     "output_type": "stream",
     "text": [
      "[(0, 1), (1, 2), (2, 3)]\n"
     ]
    },
    {
     "data": {
      "text/plain": [
       "[(0, 1), (1, 2)]"
      ]
     },
     "execution_count": 3,
     "metadata": {},
     "output_type": "execute_result"
    }
   ],
   "source": [
    "G = nx.path_graph(4)  # or DiGraph, MultiGraph, MultiDiGraph, etc\n",
    "print(G.edges)\n",
    "H = G.subgraph([0, 1, 2])\n",
    "list(H.edges)"
   ]
  },
  {
   "cell_type": "markdown",
   "id": "76ac8dad",
   "metadata": {},
   "source": [
    "* ndata/edata 访问特征\n",
    "\n",
    "subgraph.ndata/edata 中表明该边在原始图中的编号"
   ]
  },
  {
   "cell_type": "code",
   "execution_count": 84,
   "id": "8c19fd2b",
   "metadata": {},
   "outputs": [
    {
     "name": "stdout",
     "output_type": "stream",
     "text": [
      "Graph(num_nodes={'disease': 3, 'drug': 3, 'gene': 5},\n",
      "      num_edges={('drug', 'interacts', 'drug'): 2, ('drug', 'interacts', 'gene'): 3, ('drug', 'treats', 'disease'): 1, ('gene', 'gd', 'disease'): 0},\n",
      "      metagraph=[('drug', 'drug', 'interacts'), ('drug', 'gene', 'interacts'), ('drug', 'disease', 'treats'), ('gene', 'disease', 'gd')])\n",
      "**********\n",
      "Graph(num_nodes={'disease': 1, 'drug': 2, 'gene': 3},\n",
      "      num_edges={('drug', 'interacts', 'drug'): 1, ('drug', 'interacts', 'gene'): 2, ('drug', 'treats', 'disease'): 1, ('gene', 'gd', 'disease'): 0},\n",
      "      metagraph=[('drug', 'drug', 'interacts'), ('drug', 'gene', 'interacts'), ('drug', 'disease', 'treats'), ('gene', 'disease', 'gd')])\n",
      "********** add edges\n",
      "Graph(num_nodes={'disease': 1, 'drug': 2, 'gene': 3},\n",
      "      num_edges={('drug', 'interacts', 'drug'): 1, ('drug', 'interacts', 'gene'): 2, ('drug', 'treats', 'disease'): 1, ('gene', 'gd', 'disease'): 1},\n",
      "      metagraph=[('drug', 'drug', 'interacts'), ('drug', 'gene', 'interacts'), ('drug', 'disease', 'treats'), ('gene', 'disease', 'gd')])\n"
     ]
    }
   ],
   "source": [
    "import dgl\n",
    "import torch as th\n",
    "\n",
    "graph_data = {\n",
    "   ('gene', 'gd', 'disease'): [],\n",
    "   ('drug', 'interacts', 'drug'): (th.tensor([0, 1]), th.tensor([1, 2])),\n",
    "   ('drug', 'interacts', 'gene'): (th.tensor([0, 1, 1]), th.tensor([2, 3, 4])),\n",
    "   ('drug', 'treats', 'disease'): (th.tensor([1]), th.tensor([2]))\n",
    "}\n",
    "graph = dgl.heterograph(graph_data)\n",
    "print(graph)\n",
    "\n",
    "print(\"*\"*10)\n",
    "\n",
    "subgraph_nodes = {'drug': [0, 1], 'gene': [1, 3, 4], 'disease':[2]}\n",
    "subgraph = graph.subgraph(subgraph_nodes)\n",
    "print(subgraph)\n",
    "\n",
    "print(\"********** add edges\")\n",
    "subgraph.add_edges(1, 0, etype=('gene', 'gd', 'disease'))\n",
    "print(subgraph)"
   ]
  },
  {
   "cell_type": "code",
   "execution_count": 85,
   "id": "86b3f0c0",
   "metadata": {},
   "outputs": [
    {
     "name": "stdout",
     "output_type": "stream",
     "text": [
      "********** output edata\n",
      "defaultdict(<class 'dict'>, {'_ID': {('drug', 'interacts', 'drug'): tensor([0]), ('drug', 'interacts', 'gene'): tensor([1, 2]), ('drug', 'treats', 'disease'): tensor([0]), ('gene', 'gd', 'disease'): tensor([0])}})\n",
      "********** output edges\n",
      "EdgeSpace(data={'_ID': tensor([0])})\n"
     ]
    }
   ],
   "source": [
    "print(\"********** output edata\")\n",
    "print(subgraph.edata)\n",
    "\n",
    "print(\"********** output edges\")\n",
    "print(subgraph.edges[('drug', 'interacts', 'drug')])"
   ]
  },
  {
   "cell_type": "code",
   "execution_count": 86,
   "id": "840e09a6",
   "metadata": {},
   "outputs": [
    {
     "name": "stdout",
     "output_type": "stream",
     "text": [
      "********** output ndata\n",
      "defaultdict(<class 'dict'>, {'_ID': {'disease': tensor([2]), 'drug': tensor([0, 1]), 'gene': tensor([1, 3, 4])}})\n",
      "********** output nodes\n",
      "NodeSpace(data={'_ID': tensor([0, 1])})\n"
     ]
    }
   ],
   "source": [
    "print(\"********** output ndata\")\n",
    "print(subgraph.ndata)\n",
    "\n",
    "print(\"********** output nodes\")\n",
    "print(subgraph.nodes[('drug')])"
   ]
  },
  {
   "cell_type": "markdown",
   "id": "74f269ce",
   "metadata": {},
   "source": [
    "batch"
   ]
  },
  {
   "cell_type": "code",
   "execution_count": 8,
   "id": "38a94773",
   "metadata": {},
   "outputs": [
    {
     "name": "stdout",
     "output_type": "stream",
     "text": [
      "Graph(num_nodes=7, num_edges=5,\n",
      "      ndata_schemes={}\n",
      "      edata_schemes={})\n",
      "{}\n"
     ]
    }
   ],
   "source": [
    "import dgl\n",
    "\n",
    "# 创建两个子图\n",
    "subgraph1 = dgl.graph([(0, 1), (1, 2)], num_nodes=3)\n",
    "subgraph2 = dgl.graph([(0, 1), (1, 2), (2, 3)], num_nodes=4)\n",
    "\n",
    "# 将两个子图合并成一个大图\n",
    "batched_graph = dgl.batch([subgraph1, subgraph2])\n",
    "\n",
    "# 输出合并后的大图信息\n",
    "print(batched_graph)\n"
   ]
  },
  {
   "cell_type": "markdown",
   "id": "02a07ad9",
   "metadata": {},
   "source": [
    "## for 与 else\n",
    "for和else可以组成语句，如果for循环正常结束，else中语句执行。如果for是break结束的，则不执行"
   ]
  },
  {
   "cell_type": "code",
   "execution_count": 46,
   "id": "bb9201d9",
   "metadata": {},
   "outputs": [
    {
     "name": "stdout",
     "output_type": "stream",
     "text": [
      "0 < 1\n",
      "1 < 2\n",
      "2 < 3\n",
      "3 < 4\n",
      "4 4\n",
      "5 4\n",
      "6 4\n",
      "7 4\n",
      "8 4\n",
      "9 4\n"
     ]
    }
   ],
   "source": [
    "for j in range(10):\n",
    "    for i in range(5):\n",
    "        if j < i:\n",
    "            print(j, \"<\", i)\n",
    "            break\n",
    "    else:\n",
    "        print(j,i)\n",
    "        continue"
   ]
  },
  {
   "cell_type": "code",
   "execution_count": 47,
   "id": "3e2034d7",
   "metadata": {},
   "outputs": [
    {
     "name": "stdout",
     "output_type": "stream",
     "text": [
      "0 0\n",
      "0 < 1\n",
      "1 0\n",
      "1 1\n",
      "1 < 2\n",
      "2 0\n",
      "2 1\n",
      "2 2\n",
      "2 < 3\n",
      "3 0\n",
      "3 1\n",
      "3 2\n",
      "3 3\n",
      "3 < 4\n",
      "4 0\n",
      "4 1\n",
      "4 2\n",
      "4 3\n",
      "4 4\n",
      "5 0\n",
      "5 1\n",
      "5 2\n",
      "5 3\n",
      "5 4\n",
      "6 0\n",
      "6 1\n",
      "6 2\n",
      "6 3\n",
      "6 4\n",
      "7 0\n",
      "7 1\n",
      "7 2\n",
      "7 3\n",
      "7 4\n",
      "8 0\n",
      "8 1\n",
      "8 2\n",
      "8 3\n",
      "8 4\n",
      "9 0\n",
      "9 1\n",
      "9 2\n",
      "9 3\n",
      "9 4\n"
     ]
    }
   ],
   "source": [
    "for j in range(10):\n",
    "    for i in range(5):\n",
    "        if j < i:\n",
    "            print(j, \"<\", i)\n",
    "            break\n",
    "        else:\n",
    "            print(j,i)\n",
    "            continue"
   ]
  },
  {
   "cell_type": "markdown",
   "id": "3b0982fb",
   "metadata": {},
   "source": [
    "# train"
   ]
  },
  {
   "cell_type": "code",
   "execution_count": 10,
   "id": "a4acc948",
   "metadata": {},
   "outputs": [],
   "source": [
    "import os\n",
    "import numpy as np\n",
    "import torch\n",
    "import torch.nn as nn\n",
    "from tqdm import tqdm"
   ]
  },
  {
   "cell_type": "code",
   "execution_count": 15,
   "id": "7aeca6b7",
   "metadata": {},
   "outputs": [
    {
     "name": "stdout",
     "output_type": "stream",
     "text": [
      "[[ 0.        0.        0.       ...  0.        0.        0.      ]\n",
      " [ 0.        0.        0.       ...  0.        0.        0.      ]\n",
      " [ 0.38472   0.49351   0.49096  ...  0.026263  0.39052   0.52217 ]\n",
      " ...\n",
      " [ 0.40159   0.3074    0.08563  ... -0.96722   0.34538   0.027772]\n",
      " [ 0.10797   0.23429   0.32665  ... -0.8115    0.55214   0.11597 ]\n",
      " [ 0.39374  -0.28776  -0.035662 ... -0.29154  -0.45984   0.039285]]\n",
      "(194784, 100)\n"
     ]
    }
   ],
   "source": [
    "word2vec = np.load(r\"C:\\Users\\69014\\Desktop\\代码\\SGR\\data\\vec.npy\")\n",
    "print(word2vec)\n",
    "print(word2vec.shape)"
   ]
  },
  {
   "cell_type": "code",
   "execution_count": 17,
   "id": "c755c1dc",
   "metadata": {},
   "outputs": [],
   "source": [
    "from torch.utils.data import Dataset\n",
    "\n",
    "class REDataset(Dataset):\n",
    "    def __init__(self, data_path):\n",
    "        self.data_path = data_path\n",
    "        self.data = torch.load(data_path)\n",
    "\n",
    "    def __len__(self):\n",
    "        return len(self.data)\n",
    "\n",
    "    def __getitem__(self, idx):\n",
    "        item = self.data[idx]\n",
    "        return item"
   ]
  },
  {
   "cell_type": "markdown",
   "id": "640c10b0",
   "metadata": {},
   "source": [
    "dev"
   ]
  },
  {
   "cell_type": "code",
   "execution_count": 40,
   "id": "3f92241b",
   "metadata": {},
   "outputs": [
    {
     "name": "stdout",
     "output_type": "stream",
     "text": [
      "{'subgraphs': Graph(num_nodes={'context': 110, 'entity': 258, 'mention': 306, 'sentence': 270},\n",
      "      num_edges={('context', 'cc', 'context'): 110, ('context', 'ce', 'entity'): 220, ('entity', 'ec', 'context'): 220, ('entity', 'ee', 'entity'): 258, ('entity', 'em', 'mention'): 306, ('mention', 'me', 'entity'): 306, ('mention', 'mm', 'mention'): 306, ('mention', 'ms', 'sentence'): 306, ('sentence', 'sm', 'mention'): 306, ('sentence', 'ss', 'sentence'): 538},\n",
      "      metagraph=[('context', 'context', 'cc'), ('context', 'entity', 'ce'), ('entity', 'context', 'ec'), ('entity', 'entity', 'ee'), ('entity', 'mention', 'em'), ('mention', 'entity', 'me'), ('mention', 'mention', 'mm'), ('mention', 'sentence', 'ms'), ('sentence', 'mention', 'sm'), ('sentence', 'sentence', 'ss')]), 'labels': tensor([[0, 1, 0,  ..., 0, 0, 0],\n",
      "        [0, 1, 0,  ..., 0, 0, 0],\n",
      "        [0, 1, 0,  ..., 0, 0, 0],\n",
      "        ...,\n",
      "        [1, 0, 0,  ..., 0, 0, 0],\n",
      "        [1, 0, 0,  ..., 0, 0, 0],\n",
      "        [1, 0, 0,  ..., 0, 0, 0]]), 'head_tail_entity_pairs': [[2, 9], [3, 9], [5, 9], [0, 2], [0, 3], [0, 5], [0, 9], [0, 1], [0, 4], [0, 6], [0, 7], [0, 8], [0, 10], [1, 0], [1, 2], [1, 3], [1, 4], [1, 5], [1, 6], [1, 7], [1, 8], [1, 9], [1, 10], [2, 0], [2, 1], [2, 3], [2, 4], [2, 5], [2, 6], [2, 7], [2, 8], [2, 10], [3, 0], [3, 1], [3, 2], [3, 4], [3, 5], [3, 6], [3, 7], [3, 8], [3, 10], [4, 0], [4, 1], [4, 2], [4, 3], [4, 5], [4, 6], [4, 7], [4, 8], [4, 9], [4, 10], [5, 0], [5, 1], [5, 2], [5, 3], [5, 4], [5, 6], [5, 7], [5, 8], [5, 10], [6, 0], [6, 1], [6, 2], [6, 3], [6, 4], [6, 5], [6, 7], [6, 8], [6, 9], [6, 10], [7, 0], [7, 1], [7, 2], [7, 3], [7, 4], [7, 5], [7, 6], [7, 8], [7, 9], [7, 10], [8, 0], [8, 1], [8, 2], [8, 3], [8, 4], [8, 5], [8, 6], [8, 7], [8, 9], [8, 10], [9, 0], [9, 1], [9, 2], [9, 3], [9, 4], [9, 5], [9, 6], [9, 7], [9, 8], [9, 10], [10, 0], [10, 1], [10, 2], [10, 3], [10, 4], [10, 5], [10, 6], [10, 7], [10, 8], [10, 9]], 'dis_ids': tensor([17, 17, 16,  3,  4,  5, 15,  3,  4,  7,  9, 13, 16, 17, 14, 15, 16, 16,\n",
      "        17, 17, 17, 17, 17, 17,  6, 13, 15, 16, 16, 16, 17, 17, 16,  5,  7, 15,\n",
      "        15, 16, 16, 17, 17, 16,  4,  5,  5, 12, 15, 15, 16, 16, 17, 15,  4,  4,\n",
      "         5,  8, 15, 15, 16, 17, 13,  3,  4,  4,  5,  5, 11, 14, 15, 16, 11,  3,\n",
      "         4,  4,  5,  5,  9, 14, 15, 16,  7,  3,  3,  3,  4,  4,  6,  6, 14, 15,\n",
      "         5,  3,  3,  3,  4,  4,  5,  5,  6, 14,  4,  3,  3,  3,  3,  3,  4,  4,\n",
      "         5,  6]), 'in_trains': [True, False, True, False, False, False, False, False, False, False, False, False, False, False, False, False, False, False, False, False, False, False, False, False, False, False, False, False, False, False, False, False, False, False, False, False, False, False, False, False, False, False, False, False, False, False, False, False, False, False, False, False, False, False, False, False, False, False, False, False, False, False, False, False, False, False, False, False, False, False, False, False, False, False, False, False, False, False, False, False, False, False, False, False, False, False, False, False, False, False, False, False, False, False, False, False, False, False, False, False, False, False, False, False, False, False, False, False, False, False], 'title': 'Skai TV', 'word_ids': tensor([160796, 178629,  88787,   9963,  75026,  68303,     23, 174924,     23,\n",
      "         13069, 172151, 122916,  24020,  86223, 135884,     87,  89170,  88787,\n",
      "        131828, 126790, 173169, 160796,  75640,     22, 127657, 126790, 173169,\n",
      "        101048, 112642,  75652,  86223, 173169,  45827,     87,  89170, 186823,\n",
      "        146148,  86223,  89265, 139151,  67492, 127618,   3845, 126790,  17649,\n",
      "          4540,  86223, 173169,  20089, 114226,  18230,     22,  15945,  74549,\n",
      "        164296,  89265,  45978, 121802,     87,  26414,  52900, 172688, 176568,\n",
      "            22,  89170,  88787,  20927, 127618, 173169, 167291,     23,  24020,\n",
      "         59838, 157053, 126790, 125127,  15945,  45527, 178629,     87, 160796,\n",
      "        178629,  88787,  14734,   9963, 113293, 126790,      1,     22,   9963,\n",
      "         44255, 126790, 139598, 172151, 122919,  88190,  52900, 172688, 176568,\n",
      "         86223,  75019,     87,  19975, 101413,     22, 160796, 178629, 128030,\n",
      "         67274,  56195,  14287,  67367, 100834,  44457,  88132,  75026,     22,\n",
      "         87532, 126790, 181726, 167379,     87, 173588,  88787, 183740, 179969,\n",
      "         86223,  75019,  67274,  17163,  62491,  54518,     18, 181726, 185187,\n",
      "         56195,     19,  15945,  39494,     16, 139901,     18, 181726, 104132,\n",
      "            23, 169464,  56195,     19,     22, 162137,  12429,  87708,  46745,\n",
      "        173169, 165201, 169222, 174924, 181726, 167379,  67274,  14591,  14287,\n",
      "         67367, 159127,     87,      0,      0,      0,      0,      0,      0,\n",
      "             0,      0,      0,      0,      0,      0,      0,      0,      0,\n",
      "             0,      0,      0,      0,      0,      0,      0,      0,      0,\n",
      "             0,      0,      0,      0,      0,      0,      0,      0,      0,\n",
      "             0,      0,      0,      0,      0,      0,      0,      0,      0,\n",
      "             0,      0,      0,      0,      0,      0,      0,      0,      0,\n",
      "             0,      0,      0,      0,      0,      0,      0,      0,      0,\n",
      "             0,      0,      0,      0,      0,      0,      0,      0,      0,\n",
      "             0,      0,      0,      0,      0,      0,      0,      0,      0,\n",
      "             0,      0,      0,      0,      0,      0,      0,      0,      0,\n",
      "             0,      0,      0,      0,      0,      0,      0,      0,      0,\n",
      "             0,      0,      0,      0,      0,      0,      0,      0,      0,\n",
      "             0,      0,      0,      0,      0,      0,      0,      0,      0,\n",
      "             0,      0,      0,      0,      0,      0,      0,      0,      0,\n",
      "             0,      0,      0,      0,      0,      0,      0,      0,      0,\n",
      "             0,      0,      0,      0,      0,      0,      0,      0,      0,\n",
      "             0,      0,      0,      0,      0,      0,      0,      0,      0,\n",
      "             0,      0,      0,      0,      0,      0,      0,      0,      0,\n",
      "             0,      0,      0,      0,      0,      0,      0,      0,      0,\n",
      "             0,      0,      0,      0,      0,      0,      0,      0,      0,\n",
      "             0,      0,      0,      0,      0,      0,      0,      0,      0,\n",
      "             0,      0,      0,      0,      0,      0,      0,      0,      0,\n",
      "             0,      0,      0,      0,      0,      0,      0,      0,      0,\n",
      "             0,      0,      0,      0,      0,      0,      0,      0,      0,\n",
      "             0,      0,      0,      0,      0,      0,      0,      0,      0,\n",
      "             0,      0,      0,      0,      0,      0,      0,      0,      0,\n",
      "             0,      0,      0,      0,      0,      0,      0,      0,      0,\n",
      "             0,      0,      0,      0,      0,      0,      0,      0,      0,\n",
      "             0,      0,      0,      0,      0,      0,      0,      0,      0,\n",
      "             0,      0,      0,      0,      0,      0,      0,      0,      0,\n",
      "             0,      0,      0,      0,      0,      0,      0,      0,      0,\n",
      "             0,      0,      0,      0,      0,      0,      0,      0,      0,\n",
      "             0,      0,      0,      0,      0,      0,      0,      0,      0,\n",
      "             0,      0,      0,      0,      0,      0,      0,      0,      0,\n",
      "             0,      0,      0,      0,      0,      0,      0,      0,      0,\n",
      "             0,      0,      0,      0,      0,      0,      0,      0,      0,\n",
      "             0,      0,      0,      0,      0,      0,      0,      0,      0,\n",
      "             0,      0,      0,      0,      0,      0,      0,      0,      0,\n",
      "             0,      0,      0,      0,      0,      0,      0,      0]), 'sent_length': 165, 'ner_ids': tensor([1, 1, 0, 0, 2, 0, 0, 0, 0, 0, 0, 0, 0, 0, 2, 0, 0, 0, 0, 0, 0, 1, 1, 0,\n",
      "        0, 0, 0, 0, 0, 0, 0, 0, 0, 0, 0, 0, 0, 0, 0, 0, 0, 0, 3, 3, 3, 3, 0, 0,\n",
      "        2, 0, 0, 0, 0, 0, 0, 0, 0, 0, 0, 0, 0, 0, 0, 0, 0, 0, 0, 0, 0, 0, 0, 0,\n",
      "        0, 0, 0, 1, 0, 1, 1, 0, 1, 1, 0, 0, 0, 0, 0, 1, 0, 0, 0, 0, 0, 0, 0, 0,\n",
      "        0, 0, 0, 0, 2, 0, 0, 0, 0, 1, 1, 0, 0, 0, 0, 0, 0, 0, 0, 5, 0, 0, 0, 0,\n",
      "        0, 0, 0, 0, 0, 0, 0, 2, 0, 0, 0, 0, 0, 0, 0, 0, 0, 0, 0, 0, 0, 0, 0, 0,\n",
      "        0, 0, 0, 0, 0, 0, 0, 0, 0, 0, 0, 0, 0, 0, 0, 0, 0, 0, 0, 0, 0, 0, 0, 0,\n",
      "        0, 0, 0, 0, 0, 0, 0, 0, 0, 0, 0, 0, 0, 0, 0, 0, 0, 0, 0, 0, 0, 0, 0, 0,\n",
      "        0, 0, 0, 0, 0, 0, 0, 0, 0, 0, 0, 0, 0, 0, 0, 0, 0, 0, 0, 0, 0, 0, 0, 0,\n",
      "        0, 0, 0, 0, 0, 0, 0, 0, 0, 0, 0, 0, 0, 0, 0, 0, 0, 0, 0, 0, 0, 0, 0, 0,\n",
      "        0, 0, 0, 0, 0, 0, 0, 0, 0, 0, 0, 0, 0, 0, 0, 0, 0, 0, 0, 0, 0, 0, 0, 0,\n",
      "        0, 0, 0, 0, 0, 0, 0, 0, 0, 0, 0, 0, 0, 0, 0, 0, 0, 0, 0, 0, 0, 0, 0, 0,\n",
      "        0, 0, 0, 0, 0, 0, 0, 0, 0, 0, 0, 0, 0, 0, 0, 0, 0, 0, 0, 0, 0, 0, 0, 0,\n",
      "        0, 0, 0, 0, 0, 0, 0, 0, 0, 0, 0, 0, 0, 0, 0, 0, 0, 0, 0, 0, 0, 0, 0, 0,\n",
      "        0, 0, 0, 0, 0, 0, 0, 0, 0, 0, 0, 0, 0, 0, 0, 0, 0, 0, 0, 0, 0, 0, 0, 0,\n",
      "        0, 0, 0, 0, 0, 0, 0, 0, 0, 0, 0, 0, 0, 0, 0, 0, 0, 0, 0, 0, 0, 0, 0, 0,\n",
      "        0, 0, 0, 0, 0, 0, 0, 0, 0, 0, 0, 0, 0, 0, 0, 0, 0, 0, 0, 0, 0, 0, 0, 0,\n",
      "        0, 0, 0, 0, 0, 0, 0, 0, 0, 0, 0, 0, 0, 0, 0, 0, 0, 0, 0, 0, 0, 0, 0, 0,\n",
      "        0, 0, 0, 0, 0, 0, 0, 0, 0, 0, 0, 0, 0, 0, 0, 0, 0, 0, 0, 0, 0, 0, 0, 0,\n",
      "        0, 0, 0, 0, 0, 0, 0, 0, 0, 0, 0, 0, 0, 0, 0, 0, 0, 0, 0, 0, 0, 0, 0, 0,\n",
      "        0, 0, 0, 0, 0, 0, 0, 0, 0, 0, 0, 0, 0, 0, 0, 0, 0, 0, 0, 0, 0, 0, 0, 0,\n",
      "        0, 0, 0, 0, 0, 0, 0, 0]), 'sent2pos': {0: (0, 16), 1: (16, 34), 2: (34, 59), 3: (59, 80), 4: (80, 102), 5: (102, 122), 6: (122, 165)}, 'mention2pos': {0: (80, 82), 1: (0, 2), 2: (105, 107), 3: (4, 5), 4: (14, 15), 5: (21, 23), 6: (42, 46), 7: (48, 49), 8: (75, 76), 9: (77, 79), 10: (87, 88), 11: (100, 101), 12: (127, 128), 13: (115, 116)}, 'entity2mention': defaultdict(<class 'list'>, {0: [0, 1, 2], 1: [3], 2: [4], 3: [5], 4: [6], 5: [7], 6: [8], 7: [9], 8: [10], 9: [11, 12], 10: [13]})}\n"
     ]
    }
   ],
   "source": [
    "import dgl\n",
    "\n",
    "data_path = r'C:\\Users\\69014\\Desktop\\代码\\SGR\\data\\prepro_data\\dev.pt'\n",
    "# REDataset(data_path)\n",
    "data = torch.load(data_path)\n",
    "print(data[0])"
   ]
  },
  {
   "cell_type": "code",
   "execution_count": 44,
   "id": "4e2fa0f9",
   "metadata": {},
   "outputs": [
    {
     "name": "stdout",
     "output_type": "stream",
     "text": [
      "100\n",
      "IBM Research – Brazil [10, 11]\n",
      "IBM Research – Brazil [11, 10]\n",
      "Ned McEvoy [9, 10]\n",
      "Ned McEvoy [10, 9]\n",
      "Ned McEvoy [11, 12]\n",
      "Ned McEvoy [12, 11]\n",
      "Portland Golf Club [20, 21]\n",
      "Portland Golf Club [21, 20]\n",
      "Robert K. Huntington [10, 11]\n",
      "Robert K. Huntington [11, 10]\n",
      "Allen F. Moore [1, 2]\n",
      "Allen F. Moore [2, 1]\n",
      "Johan Gottlieb Gahn [6, 7]\n",
      "Johan Gottlieb Gahn [7, 6]\n",
      "Dollar General [14, 16]\n",
      "Dollar General [16, 14]\n",
      "Julian Reinard [3, 2]\n",
      "Julian Reinard [2, 3]\n",
      "(I Am) The Seeker [4, 5]\n",
      "(I Am) The Seeker [5, 4]\n",
      "(I Am) The Seeker [11, 12]\n",
      "(I Am) The Seeker [12, 11]\n",
      "Queen of Housewives [1, 2]\n",
      "Queen of Housewives [2, 1]\n",
      "Brooks Pharmacy [15, 16]\n",
      "Brooks Pharmacy [16, 15]\n",
      "Crouching Tiger, Hidden Dragon: Sword of Destiny [1, 2]\n",
      "Crouching Tiger, Hidden Dragon: Sword of Destiny [2, 1]\n",
      "Bicycles &amp; Tricycles [5, 6]\n",
      "Bicycles &amp; Tricycles [6, 5]\n",
      "Bicycles &amp; Tricycles [21, 22]\n",
      "Bicycles &amp; Tricycles [22, 21]\n",
      "Each Time You Break My Heart [8, 9]\n",
      "Each Time You Break My Heart [9, 8]\n",
      "Will Weng [14, 15]\n",
      "Will Weng [15, 14]\n",
      "Jimmy Frise [10, 11]\n",
      "Jimmy Frise [11, 10]\n",
      "La prima notte di quiete [4, 5]\n",
      "La prima notte di quiete [5, 4]\n",
      "Tonie Marshall [2, 3]\n",
      "Tonie Marshall [3, 2]\n",
      "Washington v. Texas [2, 3]\n",
      "Washington v. Texas [3, 2]\n",
      "Solingen [12, 13]\n",
      "Solingen [13, 12]\n",
      "Ali Kuli Khan Khattak [2, 3]\n",
      "Ali Kuli Khan Khattak [3, 2]\n",
      "Riksakten [7, 8]\n",
      "Riksakten [8, 7]\n",
      "Wolfgang Thüne [8, 9]\n",
      "Wolfgang Thüne [9, 8]\n",
      "num_10 52\n",
      "num_b10 18677\n",
      "num_l10 18677\n",
      "max tensor(19)\n",
      "min tensor(1)\n"
     ]
    }
   ],
   "source": [
    "import dgl\n",
    "\n",
    "data_path = r'C:\\Users\\69014\\Desktop\\代码\\SGR\\data\\prepro_data\\dev.pt'\n",
    "# REDataset(data_path)\n",
    "data = torch.load(data_path)\n",
    "\n",
    "num_10 = 0\n",
    "num_b10 = 0\n",
    "num_l10 = 0\n",
    "max = -1\n",
    "min = 100\n",
    "\n",
    "print(len(data[:100]))\n",
    "for i in data[:100]:\n",
    "    for index, dis in enumerate(i['dis_ids']):\n",
    "        if dis == 10:\n",
    "            num_10+=1\n",
    "            # 头尾实体之间距离为10说明 实体对中第一个提及对在上下文中是相连的\n",
    "            print(i['title'], i['head_tail_entity_pairs'][index])\n",
    "        elif dis > 10:\n",
    "            num_b10+=1\n",
    "        else:\n",
    "            num_l10+=1\n",
    "        if dis<min:\n",
    "            min=dis\n",
    "        if dis>max:\n",
    "            max=dis\n",
    "print(\"num_10\", num_10)\n",
    "# 大于10的和小于10的实体对数量相同是因为实体对中既有(a,b)也有(b,a)\n",
    "print(\"num_b10\", num_b10)\n",
    "print(\"num_l10\", num_l10)\n",
    "print('max', max)\n",
    "print('min', min)\n",
    "\n",
    "# print(data[0])"
   ]
  },
  {
   "cell_type": "markdown",
   "id": "135e0a33",
   "metadata": {},
   "source": [
    "# model.py"
   ]
  },
  {
   "cell_type": "code",
   "execution_count": 87,
   "id": "fb3f9a57",
   "metadata": {},
   "outputs": [],
   "source": [
    "import torch\n",
    "import torch.nn as nn"
   ]
  },
  {
   "cell_type": "code",
   "execution_count": 94,
   "id": "f50194f5",
   "metadata": {},
   "outputs": [
    {
     "name": "stdout",
     "output_type": "stream",
     "text": [
      "weight_ih_l0\n",
      "Parameter containing:\n",
      "tensor([[-0.4885],\n",
      "        [-0.2515],\n",
      "        [ 0.5471],\n",
      "        [ 0.4903],\n",
      "        [ 0.1693],\n",
      "        [-0.5370],\n",
      "        [-0.3068],\n",
      "        [ 0.0206]], requires_grad=True)\n",
      "tensor([[-0.4885],\n",
      "        [-0.2515],\n",
      "        [ 0.5471],\n",
      "        [ 0.4903],\n",
      "        [ 0.1693],\n",
      "        [-0.5370],\n",
      "        [-0.3068],\n",
      "        [ 0.0206]])\n",
      "tensor([[0.],\n",
      "        [0.],\n",
      "        [0.],\n",
      "        [0.],\n",
      "        [0.],\n",
      "        [0.],\n",
      "        [0.],\n",
      "        [0.]])\n"
     ]
    }
   ],
   "source": [
    "input_size = 1\n",
    "hidden_size = 2\n",
    "num_layers = 2\n",
    "dropout = 0.4\n",
    "lstm = nn.LSTM(input_size, hidden_size, num_layers, bidirectional=True, dropout=dropout)\n",
    "for name, param in lstm.named_parameters():\n",
    "    print(name)\n",
    "    print(param)\n",
    "    print(param.data)\n",
    "    print(param.data.fill_(0))\n",
    "    break"
   ]
  },
  {
   "cell_type": "code",
   "execution_count": null,
   "id": "9745082d",
   "metadata": {},
   "outputs": [],
   "source": []
  },
  {
   "cell_type": "code",
   "execution_count": null,
   "id": "6ef56b00",
   "metadata": {},
   "outputs": [],
   "source": []
  },
  {
   "cell_type": "code",
   "execution_count": null,
   "id": "7d6ed889",
   "metadata": {},
   "outputs": [],
   "source": []
  },
  {
   "cell_type": "code",
   "execution_count": null,
   "id": "65c37726",
   "metadata": {},
   "outputs": [],
   "source": []
  },
  {
   "cell_type": "code",
   "execution_count": null,
   "id": "93b9c3a6",
   "metadata": {},
   "outputs": [],
   "source": []
  },
  {
   "cell_type": "code",
   "execution_count": null,
   "id": "d5fbe250",
   "metadata": {},
   "outputs": [],
   "source": []
  },
  {
   "cell_type": "code",
   "execution_count": null,
   "id": "5fe9f2a8",
   "metadata": {},
   "outputs": [],
   "source": []
  },
  {
   "cell_type": "code",
   "execution_count": null,
   "id": "55ea37ff",
   "metadata": {},
   "outputs": [],
   "source": []
  },
  {
   "cell_type": "code",
   "execution_count": null,
   "id": "c69cf172",
   "metadata": {},
   "outputs": [],
   "source": []
  },
  {
   "cell_type": "code",
   "execution_count": null,
   "id": "6990840b",
   "metadata": {},
   "outputs": [],
   "source": []
  },
  {
   "cell_type": "code",
   "execution_count": null,
   "id": "0de8118a",
   "metadata": {},
   "outputs": [],
   "source": []
  }
 ],
 "metadata": {
  "kernelspec": {
   "display_name": "Python 3 (ipykernel)",
   "language": "python",
   "name": "python3"
  },
  "language_info": {
   "codemirror_mode": {
    "name": "ipython",
    "version": 3
   },
   "file_extension": ".py",
   "mimetype": "text/x-python",
   "name": "python",
   "nbconvert_exporter": "python",
   "pygments_lexer": "ipython3",
   "version": "3.9.12"
  },
  "toc": {
   "base_numbering": 1,
   "nav_menu": {},
   "number_sections": true,
   "sideBar": true,
   "skip_h1_title": false,
   "title_cell": "Table of Contents",
   "title_sidebar": "Contents",
   "toc_cell": false,
   "toc_position": {},
   "toc_section_display": true,
   "toc_window_display": false
  }
 },
 "nbformat": 4,
 "nbformat_minor": 5
}
